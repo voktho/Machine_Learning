{
 "cells": [
  {
   "cell_type": "code",
   "execution_count": null,
   "id": "039c06fc",
   "metadata": {},
   "outputs": [],
   "source": [
    "import pandas as pd\n",
    "from sklearn.tree import DecisionTreeClassifier\n",
    "from sklearn.model_selection import train_test_split\n",
    "from sklearn.metrics import accuracy_score\n",
    "import joblib\n",
    "from sklearn import tree\n",
    "\n",
    "music_data=pd.read_csv('music.csv')\n",
    "# music_data\n",
    "X = music_data.drop(columns='genre')\n",
    "# X\n",
    "y = music_data['genre']\n",
    "# y\n",
    "# X_train,X_test,y_train,y_test=train_test_split(X,y,test_size = 0.2)\n",
    "\n",
    "# model=DecisionTreeClassifier()\n",
    "# model.fit(X_train,y_train) #train data\n",
    "# predictions = model.predict(X_test)\n",
    "# print(predictions)\n",
    "# accuracy_score(y_test,predictions)\n"
   ]
  },
  {
   "cell_type": "code",
   "execution_count": null,
   "id": "d4e1166c",
   "metadata": {},
   "outputs": [],
   "source": [
    "music_data.head()"
   ]
  },
  {
   "cell_type": "code",
   "execution_count": null,
   "id": "62b7f637",
   "metadata": {},
   "outputs": [],
   "source": [
    "#train data will save .we can use it next time without train it again\n",
    "# mdata=DecisionTreeClassifier()\n",
    "# X_train,X_test,y_train,y_test=train_test_split(X,y,test_size=0.1)\n",
    "# mdata.fit(X_train,y_train)\n",
    "# joblib.dump(mdata,'musictrain.joblib')"
   ]
  },
  {
   "cell_type": "code",
   "execution_count": null,
   "id": "e5245c49",
   "metadata": {},
   "outputs": [],
   "source": [
    "##loading trained data\n",
    "mj=joblib.load('musictrain.joblib')\n",
    "predictions=mj.predict([[35,0],[25,1]])\n",
    "predictions"
   ]
  },
  {
   "cell_type": "code",
   "execution_count": null,
   "id": "06d766dd",
   "metadata": {},
   "outputs": [],
   "source": [
    "tree.export_graphviz(mdata,out_file='musicTra.dot',\n",
    "                     feature_names=['age','gender'],\n",
    "                    class_names=sorted(y.unique()),\n",
    "                    label='all',\n",
    "                    rounded=True,\n",
    "                    filled=True)"
   ]
  },
  {
   "cell_type": "code",
   "execution_count": null,
   "id": "891315db",
   "metadata": {},
   "outputs": [],
   "source": []
  }
 ],
 "metadata": {
  "kernelspec": {
   "display_name": "Python 3",
   "language": "python",
   "name": "python3"
  },
  "language_info": {
   "codemirror_mode": {
    "name": "ipython",
    "version": 3
   },
   "file_extension": ".py",
   "mimetype": "text/x-python",
   "name": "python",
   "nbconvert_exporter": "python",
   "pygments_lexer": "ipython3",
   "version": "3.8.8"
  }
 },
 "nbformat": 4,
 "nbformat_minor": 5
}
