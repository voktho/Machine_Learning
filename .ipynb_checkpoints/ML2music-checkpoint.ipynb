{
 "cells": [
  {
   "cell_type": "code",
   "execution_count": 162,
   "id": "039c06fc",
   "metadata": {},
   "outputs": [
    {
     "data": {
      "text/plain": [
       "1.0"
      ]
     },
     "execution_count": 162,
     "metadata": {},
     "output_type": "execute_result"
    }
   ],
   "source": [
    "import pandas as pd\n",
    "from sklearn.tree import DecisionTreeClassifier\n",
    "from sklearn.model_selection import train_test_split\n",
    "from sklearn.metrics import accuracy_score\n",
    "\n",
    "music_data=pd.read_csv('music.csv')\n",
    "# music_data\n",
    "X = music_data.drop(columns='genre')\n",
    "# X\n",
    "y = music_data['genre']\n",
    "# y\n",
    "# X_train,X_test,y_train,y_test=train_test_split(X,y,test_size = 0.2)\n",
    "\n",
    "# model=DecisionTreeClassifier()\n",
    "# model.fit(X_train,y_train) #train data\n",
    "# predictions = model.predict(X_test)\n",
    "# predictions\n",
    "# accuracy_score(y_test,predictions)\n"
   ]
  },
  {
   "cell_type": "code",
   "execution_count": 167,
   "id": "62b7f637",
   "metadata": {},
   "outputs": [
    {
     "data": {
      "text/plain": [
       "['musictrain.joblib']"
      ]
     },
     "execution_count": 167,
     "metadata": {},
     "output_type": "execute_result"
    }
   ],
   "source": [
    "import joblib  #train data will save .we can use it next time without train it again\n",
    "# mdata=DecisionTreeClassifier()\n",
    "# mdata.fit(X,y)\n",
    "# joblib.dump(mdata,'musictrain.joblib')"
   ]
  },
  {
   "cell_type": "code",
   "execution_count": 174,
   "id": "e5245c49",
   "metadata": {},
   "outputs": [
    {
     "data": {
      "text/plain": [
       "array(['HipHop', 'Dance'], dtype=object)"
      ]
     },
     "execution_count": 174,
     "metadata": {},
     "output_type": "execute_result"
    }
   ],
   "source": [
    "joblib.load('musictrain.joblib')\n",
    "predictions=mdata.predict([[21,1],[20,0]])\n",
    "predictions"
   ]
  }
 ],
 "metadata": {
  "kernelspec": {
   "display_name": "Python 3",
   "language": "python",
   "name": "python3"
  },
  "language_info": {
   "codemirror_mode": {
    "name": "ipython",
    "version": 3
   },
   "file_extension": ".py",
   "mimetype": "text/x-python",
   "name": "python",
   "nbconvert_exporter": "python",
   "pygments_lexer": "ipython3",
   "version": "3.8.8"
  }
 },
 "nbformat": 4,
 "nbformat_minor": 5
}
